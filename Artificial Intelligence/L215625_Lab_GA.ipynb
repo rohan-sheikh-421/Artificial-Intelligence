{
  "nbformat": 4,
  "nbformat_minor": 0,
  "metadata": {
    "colab": {
      "provenance": []
    },
    "kernelspec": {
      "name": "python3",
      "display_name": "Python 3"
    },
    "language_info": {
      "name": "python"
    }
  },
  "cells": [
    {
      "cell_type": "code",
      "execution_count": null,
      "metadata": {
        "colab": {
          "base_uri": "https://localhost:8080/"
        },
        "id": "VCn_KhIUYCI-",
        "outputId": "6bb5c89c-1561-4090-95fe-4d29809c257c"
      },
      "outputs": [
        {
          "output_type": "stream",
          "name": "stdout",
          "text": [
            "Best Chromosome: [1 0 1 1 0 1 1 0 0 0]\n",
            "Total Value: 1918\n",
            "Total Weight: 31\n"
          ]
        }
      ],
      "source": [
        "import numpy as np\n",
        "\n",
        "# Define available items\n",
        "items = np.array([\n",
        "    [3, 266],\n",
        "    [13, 442],\n",
        "    [10, 671],\n",
        "    [9, 526],\n",
        "    [7, 388],\n",
        "    [1, 245],\n",
        "    [8, 210],\n",
        "    [8, 145],\n",
        "    [2, 126],\n",
        "    [9, 322]\n",
        "])\n",
        "\n",
        "# Define the weight limit\n",
        "kw = 35\n",
        "\n",
        "# Define initial population\n",
        "population = np.array([\n",
        "    [0, 1, 0, 1, 1, 0, 0, 1, 1, 1],\n",
        "    [1, 1, 1, 1, 0, 1, 1, 1, 0, 0],\n",
        "    [0, 1, 0, 0, 0, 0, 1, 1, 0, 1],\n",
        "    [0, 0, 1, 0, 1, 1, 0, 0, 0, 0],\n",
        "    [0, 0, 1, 1, 0, 0, 0, 0, 0, 1],\n",
        "    [0, 1, 0, 1, 1, 0, 1, 0, 0, 0],\n",
        "    [1, 1, 1, 0, 0, 0, 1, 0, 1, 0],\n",
        "    [0, 0, 0, 0, 1, 1, 1, 0, 0, 0]\n",
        "])\n",
        "\n",
        "# Define fitness function\n",
        "def fitness(chromosome):\n",
        "    total_value = np.sum(chromosome * items[:, 1])\n",
        "    total_weight = np.sum(chromosome * items[:, 0])\n",
        "    if total_weight > kw:\n",
        "        return 0\n",
        "    return total_value\n",
        "\n",
        "# Define two-point crossover\n",
        "def crossover(parent1, parent2):\n",
        "    crossover_point1 = np.random.randint(0, len(parent1))\n",
        "    crossover_point2 = np.random.randint(crossover_point1, len(parent1))\n",
        "    child1 = np.concatenate((parent1[:crossover_point1], parent2[crossover_point1:crossover_point2], parent1[crossover_point2:]))\n",
        "    child2 = np.concatenate((parent2[:crossover_point1], parent1[crossover_point1:crossover_point2], parent2[crossover_point2:]))\n",
        "    return child1, child2\n",
        "\n",
        "# Define mutation\n",
        "def mutate(chromosome):\n",
        "    mutation_points = np.random.choice(len(chromosome), 2, replace=False)\n",
        "    for point in mutation_points:\n",
        "        chromosome[point] = 1 - chromosome[point]\n",
        "    return chromosome\n",
        "\n",
        "# Main loop\n",
        "num_iterations = 20\n",
        "population_size = len(population)\n",
        "elite_size = 4  # Half of the population\n",
        "\n",
        "for i in range(num_iterations):\n",
        "    # Calculate fitness for each chromosome\n",
        "    fitness_values = np.array([fitness(chromosome) for chromosome in population])\n",
        "\n",
        "    # Sort population based on fitness\n",
        "    sorted_indices = np.argsort(fitness_values)[::-1]\n",
        "    population = population[sorted_indices]\n",
        "\n",
        "    # Generate new population\n",
        "    new_population = []\n",
        "\n",
        "    # Elitism: Keep the best chromosomes\n",
        "    new_population.extend(population[:elite_size])\n",
        "\n",
        "    # Crossover and mutation\n",
        "    while len(new_population) < population_size:\n",
        "        parent1, parent2 = population[np.random.choice(population_size, 2, replace=False)]\n",
        "        offspring1, offspring2 = crossover(parent1, parent2)\n",
        "        offspring1 = mutate(offspring1)\n",
        "        offspring2 = mutate(offspring2)\n",
        "        new_population.extend([offspring1, offspring2])\n",
        "\n",
        "    # Update population\n",
        "    population = np.array(new_population)\n",
        "\n",
        "# Output the best chromosome\n",
        "best_chromosome = population[0]\n",
        "print(\"Best Chromosome:\", best_chromosome)\n",
        "print(\"Total Value:\", fitness(best_chromosome))\n",
        "print(\"Total Weight:\", np.sum(best_chromosome * items[:, 0]))\n"
      ]
    }
  ]
}
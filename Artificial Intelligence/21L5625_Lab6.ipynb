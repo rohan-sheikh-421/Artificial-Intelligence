{
  "nbformat": 4,
  "nbformat_minor": 0,
  "metadata": {
    "colab": {
      "provenance": []
    },
    "kernelspec": {
      "name": "python3",
      "display_name": "Python 3"
    },
    "language_info": {
      "name": "python"
    }
  },
  "cells": [
    {
      "cell_type": "markdown",
      "source": [
        "#graph"
      ],
      "metadata": {
        "id": "bsBreryckbkK"
      }
    },
    {
      "cell_type": "code",
      "source": [
        "graph = [[1, 0, 1, 0,0,0,0],\n",
        "         [0, 1, 1, 0,1,0,0],\n",
        "         [1, 1, 1, 1,0,0,1],\n",
        "         [0, 0, 1, 1,0,0,0],\n",
        "         [0, 1, 0, 0,1,1,0],\n",
        "         [0, 0, 0, 0,1,1,1],\n",
        "         [0, 0, 1, 0,0,1,1]]\n",
        "\n",
        "adjacency_list = {}\n",
        "\n",
        "for i in range(len(graph)):\n",
        "    neighbors = []\n",
        "    for j in range(len(graph[i])):\n",
        "        if graph[i][j] == 1 and j!=i:\n",
        "            neighbors.append(j+1)\n",
        "    adjacency_list[i+1] = neighbors\n",
        "\n",
        "print(adjacency_list)"
      ],
      "metadata": {
        "colab": {
          "base_uri": "https://localhost:8080/"
        },
        "id": "TZ2dCnsTsPIo",
        "outputId": "5b75b94c-8677-4996-da6e-3ce9aa485f00"
      },
      "execution_count": 1,
      "outputs": [
        {
          "output_type": "stream",
          "name": "stdout",
          "text": [
            "{1: [3], 2: [3, 5], 3: [1, 2, 4, 7], 4: [3], 5: [2, 6], 6: [5, 7], 7: [3, 6]}\n"
          ]
        }
      ]
    },
    {
      "cell_type": "markdown",
      "source": [
        "#BFS"
      ],
      "metadata": {
        "id": "21Q6kc5073vZ"
      }
    },
    {
      "cell_type": "code",
      "source": [
        "def bfs(adjacency_list, start_node):\n",
        "  queue = [start_node]\n",
        "  visited = set()\n",
        "  order=[]\n",
        "  while queue:\n",
        "    current_node = queue.pop(0)\n",
        "    visited.add(current_node)\n",
        "    order.append(current_node)\n",
        "\n",
        "    for neighbor in adjacency_list[current_node]:\n",
        "      if neighbor not in visited:\n",
        "        queue.append(neighbor)\n",
        "        visited.add(neighbor)\n",
        "\n",
        "  return order\n",
        "\n",
        "print(bfs(adjacency_list, 1))"
      ],
      "metadata": {
        "colab": {
          "base_uri": "https://localhost:8080/"
        },
        "id": "zqFFEGQBu4gW",
        "outputId": "71e5b67d-d763-4f61-bbd8-dea63e33111c"
      },
      "execution_count": 2,
      "outputs": [
        {
          "output_type": "stream",
          "name": "stdout",
          "text": [
            "[1, 3, 2, 4, 7, 5, 6]\n"
          ]
        }
      ]
    },
    {
      "cell_type": "code",
      "source": [],
      "metadata": {
        "id": "nj2Nz08MwV1X"
      },
      "execution_count": null,
      "outputs": []
    }
  ]
}
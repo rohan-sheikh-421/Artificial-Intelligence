{
  "nbformat": 4,
  "nbformat_minor": 0,
  "metadata": {
    "colab": {
      "provenance": []
    },
    "kernelspec": {
      "name": "python3",
      "display_name": "Python 3"
    },
    "language_info": {
      "name": "python"
    }
  },
  "cells": [
    {
      "cell_type": "markdown",
      "source": [
        "6.1 String Analysis using Sets"
      ],
      "metadata": {
        "id": "15SOfiSovgey"
      }
    },
    {
      "cell_type": "code",
      "execution_count": null,
      "metadata": {
        "colab": {
          "base_uri": "https://localhost:8080/"
        },
        "id": "i0UwGUSgvdPV",
        "outputId": "0476ad11-67fb-48cb-9975-88b1d5e14150"
      },
      "outputs": [
        {
          "output_type": "stream",
          "name": "stdout",
          "text": [
            "Unique words in string 1: set()\n",
            "Unique words in string 2: set()\n",
            "Common words: {'hello', 'world'}\n",
            "All words without duplicates: {'hello', 'world'}\n",
            "Unique words in string 1: set()\n",
            "Unique words in string 2: {'there'}\n",
            "Common words: {'hello', 'world'}\n",
            "All words without duplicates: {'world', 'there', 'hello'}\n",
            "Unique words in string 1: set()\n",
            "Unique words in string 2: set()\n",
            "Common words: {'hello', 'world'}\n",
            "All words without duplicates: {'hello', 'world'}\n"
          ]
        }
      ],
      "source": [
        "import string\n",
        "\n",
        "def analyze_strings(str1, str2):\n",
        "    # Step 1: Clean and split strings\n",
        "    translator = str.maketrans('', '', string.punctuation)\n",
        "    words1 = str1.translate(translator).lower().split()\n",
        "    words2 = str2.translate(translator).lower().split()\n",
        "\n",
        "    # Step 2: Convert lists to sets\n",
        "    set1 = set(words1)\n",
        "    set2 = set(words2)\n",
        "\n",
        "    # Step 3: Find Common Words\n",
        "    common_words = set1.intersection(set2)\n",
        "\n",
        "    # Step 4: Find Unique Words in each string\n",
        "    unique_words1 = set1.difference(set2)\n",
        "    unique_words2 = set2.difference(set1)\n",
        "\n",
        "    # Step 5: Combine all words without Duplicates\n",
        "    all_words = set1.union(set2)\n",
        "\n",
        "    # Step 6: Display Results\n",
        "    print(\"Unique words in string 1:\", unique_words1)\n",
        "    print(\"Unique words in string 2:\", unique_words2)\n",
        "    print(\"Common words:\", common_words)\n",
        "    print(\"All words without duplicates:\", all_words)\n",
        "\n",
        "# Step 7: Test Your Function\n",
        "analyze_strings(\"Hello world\", \"Hello world\")\n",
        "analyze_strings(\"Hello, world!\", \"Hello there, world.\")\n",
        "analyze_strings(\"HELLO World\", \"hello world\")\n"
      ]
    },
    {
      "cell_type": "markdown",
      "source": [
        "6.2 Exception Handling for Calculator\n"
      ],
      "metadata": {
        "id": "rIDQIlGlvw8X"
      }
    },
    {
      "cell_type": "code",
      "source": [
        "def add(x, y):\n",
        "    return x + y\n",
        "\n",
        "def subtract(x, y):\n",
        "    return x - y\n",
        "\n",
        "def multiply(x, y):\n",
        "    return x * y\n",
        "\n",
        "def divide(x, y):\n",
        "    try:\n",
        "        result = x / y\n",
        "    except ZeroDivisionError:\n",
        "        print(\"Error: Division by zero!\")\n",
        "        return None\n",
        "    return result\n",
        "\n",
        "while True:\n",
        "    try:\n",
        "        num1 = float(input(\"Enter first number: \"))\n",
        "        num2 = float(input(\"Enter second number: \"))\n",
        "        operation = input(\"Choose operation (+, -, *, /): \")\n",
        "\n",
        "        if operation == '+':\n",
        "            print(\"Result:\", add(num1, num2))\n",
        "        elif operation == '-':\n",
        "            print(\"Result:\", subtract(num1, num2))\n",
        "        elif operation == '*':\n",
        "            print(\"Result:\", multiply(num1, num2))\n",
        "        elif operation == '/':\n",
        "            result = divide(num1, num2)\n",
        "            if result is not None:\n",
        "                print(\"Result:\", result)\n",
        "        else:\n",
        "            print(\"Invalid operation!\")\n",
        "    except ValueError:\n",
        "        print(\"Invalid input! Please enter numeric values.\")\n",
        "    except Exception as e:\n",
        "        print(\"An error occurred:\", e)\n",
        "\n",
        "    choice = input(\"Do you want to perform another calculation? (yes/no): \")\n",
        "    if choice.lower() != 'yes':\n",
        "        break\n"
      ],
      "metadata": {
        "colab": {
          "base_uri": "https://localhost:8080/"
        },
        "id": "R8lddgQuvu1v",
        "outputId": "04d2be42-ab2e-47c0-ea18-db70070a3460"
      },
      "execution_count": null,
      "outputs": [
        {
          "name": "stdout",
          "output_type": "stream",
          "text": [
            "Enter first number: 3\n",
            "Enter second number: 2\n",
            "Choose operation (+, -, *, /): *\n",
            "Result: 6.0\n",
            "Do you want to perform another calculation? (yes/no): no\n"
          ]
        }
      ]
    },
    {
      "cell_type": "markdown",
      "source": [
        "6.4 Sum numbers from a file and write results with Exception handling\n"
      ],
      "metadata": {
        "id": "V1p89WOsv5DK"
      }
    },
    {
      "cell_type": "code",
      "source": [
        "def sum_file(input_file_path, output_file_path):\n",
        "    total = 0\n",
        "    try:\n",
        "        with open(input_file_path, 'r') as input_file:\n",
        "            for line in input_file:\n",
        "                try:\n",
        "                    num = float(line)\n",
        "                    total += num\n",
        "                except ValueError:\n",
        "                    print(\"Warning: Non-numeric value found in file. Skipping.\")\n",
        "    except FileNotFoundError:\n",
        "        print(\"Error: Input file not found.\")\n",
        "        return\n",
        "    except PermissionError:\n",
        "        print(\"Error: Permission denied when accessing input file.\")\n",
        "        return\n",
        "\n",
        "    try:\n",
        "        with open(output_file_path, 'w') as output_file:\n",
        "            output_file.write(str(total))\n",
        "    except PermissionError:\n",
        "        print(\"Error: Permission denied when writing to output file.\")\n",
        "        return\n",
        "\n",
        "# Testing the function\n",
        "input_file_path = '/content/input.txt'\n",
        "output_file_path = 'output.txt'\n",
        "\n",
        "sum_file(input_file_path, output_file_path)\n"
      ],
      "metadata": {
        "id": "LEUiEE_Bv4dC"
      },
      "execution_count": null,
      "outputs": []
    }
  ]
}
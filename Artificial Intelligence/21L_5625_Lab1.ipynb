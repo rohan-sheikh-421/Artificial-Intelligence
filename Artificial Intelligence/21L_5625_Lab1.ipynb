{
  "nbformat": 4,
  "nbformat_minor": 0,
  "metadata": {
    "colab": {
      "provenance": []
    },
    "kernelspec": {
      "name": "python3",
      "display_name": "Python 3"
    },
    "language_info": {
      "name": "python"
    }
  },
  "cells": [
    {
      "cell_type": "code",
      "execution_count": null,
      "metadata": {
        "colab": {
          "base_uri": "https://localhost:8080/"
        },
        "id": "q6HG48pT_afM",
        "outputId": "a1744f42-6d82-452b-f9f5-5b28850e673d"
      },
      "outputs": [
        {
          "output_type": "stream",
          "name": "stdout",
          "text": [
            "['o', 'l', 'l', 'e', 'h']\n",
            "['h', 'a', 'n', 'n', 'a', 'H']\n"
          ]
        }
      ],
      "source": [
        "def reverseString(s):\n",
        "    left = 0\n",
        "    right = len(s) - 1\n",
        "\n",
        "    while left < right:\n",
        "        s[left], s[right] = s[right], s[left]\n",
        "        left += 1\n",
        "        right -= 1\n",
        "\n",
        "# Test cases\n",
        "input_str1 = [\"h\",\"e\",\"l\",\"l\",\"o\"]\n",
        "reverseString(input_str1)\n",
        "print(input_str1)\n",
        "\n",
        "input_str2 = [\"H\",\"a\",\"n\",\"n\",\"a\",\"h\"]\n",
        "reverseString(input_str2)\n",
        "print(input_str2)\n"
      ]
    },
    {
      "cell_type": "code",
      "source": [
        "def is_alphanumeric(char):\n",
        "    return 'a' <= char <= 'z' or 'A' <= char <= 'Z' or '0' <= char <= '9'\n",
        "\n",
        "def isPalindrome(s):\n",
        "    left = 0\n",
        "    right = len(s) - 1\n",
        "\n",
        "    while left < right:\n",
        "        while left < right and not is_alphanumeric(s[left]):\n",
        "            left += 1\n",
        "        while left < right and not is_alphanumeric(s[right]):\n",
        "            right -= 1\n",
        "\n",
        "        if s[left].lower() != s[right].lower():\n",
        "            return False\n",
        "\n",
        "        left += 1\n",
        "        right -= 1\n",
        "\n",
        "    return True\n",
        "\n",
        "# Test cases\n",
        "input_str1 = \"A man, a plan, a canal: Panama\"\n",
        "print(isPalindrome(input_str1))\n",
        "\n",
        "input_str2 = \"race a car\"\n",
        "print(isPalindrome(input_str2))\n",
        "\n"
      ],
      "metadata": {
        "colab": {
          "base_uri": "https://localhost:8080/"
        },
        "id": "10kV2Rjm_4un",
        "outputId": "44becf47-01e7-4956-d9fd-f8aae0a15369"
      },
      "execution_count": null,
      "outputs": [
        {
          "output_type": "stream",
          "name": "stdout",
          "text": [
            "True\n",
            "False\n"
          ]
        }
      ]
    },
    {
      "cell_type": "code",
      "source": [
        "def mySqrt(x: int) -> int:\n",
        "    if x < 2:\n",
        "        return x\n",
        "\n",
        "    left = 1\n",
        "    right = x\n",
        "\n",
        "    while left < right:\n",
        "        mid = left + (right - left) // 2\n",
        "        square = mid * mid\n",
        "\n",
        "        if square == x:\n",
        "            return mid\n",
        "        elif square < x:\n",
        "            left = mid + 1\n",
        "        else:\n",
        "            right = mid\n",
        "    return left - 1\n",
        "\n",
        "# Test cases\n",
        "print(mySqrt(4))\n",
        "print(mySqrt(8))\n"
      ],
      "metadata": {
        "colab": {
          "base_uri": "https://localhost:8080/"
        },
        "id": "iss3fypqAYLs",
        "outputId": "542769bd-603d-4ea7-d381-754bdb01446e"
      },
      "execution_count": null,
      "outputs": [
        {
          "output_type": "stream",
          "name": "stdout",
          "text": [
            "2\n",
            "2\n"
          ]
        }
      ]
    }
  ]
}
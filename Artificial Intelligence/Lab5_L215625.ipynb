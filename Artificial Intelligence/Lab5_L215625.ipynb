{
  "nbformat": 4,
  "nbformat_minor": 0,
  "metadata": {
    "colab": {
      "provenance": []
    },
    "kernelspec": {
      "name": "python3",
      "display_name": "Python 3"
    },
    "language_info": {
      "name": "python"
    }
  },
  "cells": [
    {
      "cell_type": "markdown",
      "source": [
        "Q1"
      ],
      "metadata": {
        "id": "zM11mwRGtr8V"
      }
    },
    {
      "cell_type": "code",
      "execution_count": 1,
      "metadata": {
        "colab": {
          "base_uri": "https://localhost:8080/"
        },
        "id": "AHEXt_gbfBqH",
        "outputId": "264aea6b-7716-4f0e-91b0-3da97c481140"
      },
      "outputs": [
        {
          "output_type": "stream",
          "name": "stdout",
          "text": [
            "Number: 1, Square: 1, Cube: 1\n",
            "Number: 2, Square: 4, Cube: 8\n",
            "Number: 3, Square: 9, Cube: 27\n",
            "Number: 4, Square: 16, Cube: 64\n",
            "Number: 5, Square: 25, Cube: 125\n"
          ]
        }
      ],
      "source": [
        "\n",
        "numbers = [1, 2, 3, 4, 5]\n",
        "\n",
        "#  calculate square and cube\n",
        "square_cube = lambda x: (x**2, x**3)\n",
        "\n",
        "# lambda function\n",
        "results = [(square_cube(num)) for num in numbers]\n",
        "\n",
        "\n",
        "for index, num in enumerate(numbers):\n",
        "    print(f\"Number: {num}, Square: {results[index][0]}, Cube: {results[index][1]}\")"
      ]
    },
    {
      "cell_type": "markdown",
      "source": [
        "Q2"
      ],
      "metadata": {
        "id": "d6f_OsIktwkF"
      }
    },
    {
      "cell_type": "code",
      "source": [
        "class Rectangle:\n",
        "    def __init__(self, length, width):\n",
        "        self.length = length\n",
        "        self.width = width\n",
        "\n",
        "    def calculate_area(self):\n",
        "        return self.length * self.width\n",
        "\n",
        "\n",
        "rectangle1 = Rectangle(5, 10)\n",
        "\n",
        "# area\n",
        "area = rectangle1.calculate_area()\n",
        "\n",
        "print(f\"The area of the rectangle with length {rectangle1.length} and width {rectangle1.width} is: {area}\")"
      ],
      "metadata": {
        "colab": {
          "base_uri": "https://localhost:8080/"
        },
        "id": "AvQHsfSTpkVa",
        "outputId": "713c60dc-9e7d-4a85-c946-d861257456ef"
      },
      "execution_count": 2,
      "outputs": [
        {
          "output_type": "stream",
          "name": "stdout",
          "text": [
            "The area of the rectangle with length 5 and width 10 is: 50\n"
          ]
        }
      ]
    },
    {
      "cell_type": "markdown",
      "source": [
        "Q3"
      ],
      "metadata": {
        "id": "PhqQO08styb7"
      }
    },
    {
      "cell_type": "code",
      "source": [
        "from collections import deque\n",
        "\n",
        "# Creating a LIFO queue using deque\n",
        "lifo_queue = deque()\n",
        "\n",
        "# Adding elements to the LIFO queue\n",
        "lifo_queue.append('eat')\n",
        "lifo_queue.append('sleep')\n",
        "lifo_queue.append('code')\n",
        "\n",
        "# Removing elements from the LIFO queue\n",
        "print(lifo_queue.pop())  # 'code'\n",
        "print(lifo_queue.pop())  # 'sleep'\n",
        "print(lifo_queue.pop())  # 'eat'\n"
      ],
      "metadata": {
        "colab": {
          "base_uri": "https://localhost:8080/"
        },
        "id": "ttJDw-KCp2Od",
        "outputId": "66ced7b0-81b2-4c22-e253-10298a27d761"
      },
      "execution_count": 4,
      "outputs": [
        {
          "output_type": "stream",
          "name": "stdout",
          "text": [
            "code\n",
            "sleep\n",
            "eat\n"
          ]
        }
      ]
    },
    {
      "cell_type": "code",
      "source": [],
      "metadata": {
        "id": "HcR26RxUp-mz"
      },
      "execution_count": null,
      "outputs": []
    }
  ]
}
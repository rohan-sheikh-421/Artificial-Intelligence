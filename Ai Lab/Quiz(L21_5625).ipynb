{
  "nbformat": 4,
  "nbformat_minor": 0,
  "metadata": {
    "colab": {
      "provenance": []
    },
    "kernelspec": {
      "name": "python3",
      "display_name": "Python 3"
    },
    "language_info": {
      "name": "python"
    }
  },
  "cells": [
    {
      "cell_type": "code",
      "source": [],
      "metadata": {
        "id": "aupbu35EY0Hg"
      },
      "execution_count": null,
      "outputs": []
    },
    {
      "cell_type": "code",
      "source": [
        "import os\n",
        "\n",
        "# Define the path to the contacts file\n",
        "CONTACTS_FILE = \"contacts.txt\"\n",
        "# load  contacts\n",
        "def load_contacts():\n",
        "\n",
        "    contacts = {}\n",
        "    try:\n",
        "        with open(CONTACTS_FILE, \"r\") as file:\n",
        "            for line in file:\n",
        "                name, phone, email = line.strip().split(\",\")\n",
        "                contacts[name] = {\"phone\": phone, \"email\": email}\n",
        "    except FileNotFoundError:\n",
        "        print(\"Contacts file not found. Creating an empty contact list.\")\n",
        "    return contacts\n",
        "# add contacts\n",
        "def add_contact(contacts, name, phone, email):\n",
        "\n",
        "    if name not in contacts:\n",
        "        contacts[name] = {\"phone\": phone, \"email\": email}\n",
        "        print(f\"Contact '{name}' added successfully.\")\n",
        "    else:\n",
        "        print(f\"Contact '{name}' already exists.\")\n",
        "# search contacts\n",
        "def search_contact(contacts, name):\n",
        "\n",
        "    if name in contacts:\n",
        "        print(f\"Contact Details for '{name}':\")\n",
        "        print(f\"Phone: {contacts[name]['phone']}\")\n",
        "        print(f\"Email: {contacts[name]['email']}\")\n",
        "    else:\n",
        "        print(f\"Contact '{name}' not found.\")\n",
        "\n",
        "# delete contacts\n",
        "def delete_contact(contacts, name):\n",
        "\n",
        "    if name in contacts:\n",
        "        del contacts[name]\n",
        "        print(f\"Contact '{name}' deleted successfully.\")\n",
        "    else:\n",
        "        print(f\"Contact '{name}' not found.\")\n",
        "# list contacts\n",
        "def list_contacts(contacts):\n",
        "\n",
        "    if not contacts:\n",
        "        print(\"No contacts found.\")\n",
        "    else:\n",
        "        print(\"All Contacts:\")\n",
        "        for name in sorted(contacts):\n",
        "            print(f\"{name}: {contacts[name]['phone']} ({contacts[name]['email']})\")\n",
        "# save contacts\n",
        "def save_contacts(contacts):\n",
        "\n",
        "    try:\n",
        "        with open(CONTACTS_FILE, \"w\") as file:\n",
        "            for name, info in contacts.items():\n",
        "                file.write(f\"{name},{info['phone']},{info['email']}\\n\")\n",
        "        print(\"Contacts saved successfully.\")\n",
        "    except Exception as e:\n",
        "        print(f\"Error saving contacts: {e}\")\n",
        "\n",
        "def main():\n",
        "    contacts = load_contacts()\n",
        "\n",
        "    while True:\n",
        "        print(\"\\nContact Management System\")\n",
        "        print(\"1. Add Contact\")\n",
        "        print(\"2. Search Contact\")\n",
        "        print(\"3. Delete Contact\")\n",
        "        print(\"4. List Contacts\")\n",
        "        print(\"5. Save Contacts\")\n",
        "        print(\"6. Exit\")\n",
        "\n",
        "        choice = input(\"Enter your choice (1-6): \")\n",
        "\n",
        "        if choice == \"1\":\n",
        "            name = input(\"Enter contact name: \")\n",
        "            phone = input(\"Enter phone number: \")\n",
        "            email = input(\"Enter email address: \")\n",
        "            add_contact(contacts, name, phone, email)\n",
        "        elif choice == \"2\":\n",
        "            name = input(\"Enter contact name to search: \")\n",
        "            search_contact(contacts, name)\n",
        "        elif choice == \"3\":\n",
        "            name = input(\"Enter contact name to delete: \")\n",
        "            delete_contact(contacts, name)\n",
        "        elif choice == \"4\":\n",
        "            list_contacts(contacts)\n",
        "        elif choice == \"5\":\n",
        "            save_contacts(contacts)\n",
        "        elif choice == \"6\":\n",
        "            print(\"Exiting the Contact Management System.\")\n",
        "            break\n",
        "        else:\n",
        "            print(\"Invalid choice. Please select a valid option.\")\n",
        "\n",
        "if __name__ == \"__main__\":\n",
        "    main()\n"
      ],
      "metadata": {
        "colab": {
          "base_uri": "https://localhost:8080/"
        },
        "id": "JLmEAerxYpEY",
        "outputId": "4a45d1a0-4833-4ecb-be74-e9a4d4299ab1"
      },
      "execution_count": 2,
      "outputs": [
        {
          "output_type": "stream",
          "name": "stdout",
          "text": [
            "\n",
            "Contact Management System\n",
            "1. Add Contact\n",
            "2. Search Contact\n",
            "3. Delete Contact\n",
            "4. List Contacts\n",
            "5. Save Contacts\n",
            "6. Exit\n",
            "Enter your choice (1-6): 4\n",
            "All Contacts:\n",
            "Alex Johnson: 3456789012 (alexjohnson@example.com)\n",
            "Jane Smith: 2345678901 (janesmith@example.com)\n",
            "John Doe: 1234567890 (johndoe@example.com)\n",
            "\n",
            "Contact Management System\n",
            "1. Add Contact\n",
            "2. Search Contact\n",
            "3. Delete Contact\n",
            "4. List Contacts\n",
            "5. Save Contacts\n",
            "6. Exit\n",
            "Enter your choice (1-6): rohan\n",
            "Invalid choice. Please select a valid option.\n",
            "\n",
            "Contact Management System\n",
            "1. Add Contact\n",
            "2. Search Contact\n",
            "3. Delete Contact\n",
            "4. List Contacts\n",
            "5. Save Contacts\n",
            "6. Exit\n",
            "Enter your choice (1-6): 1\n",
            "Enter contact name: rohan\n",
            "Enter phone number: 8227737625\n",
            "Enter email address: hhhehe@gail.com\n",
            "Contact 'rohan' added successfully.\n",
            "\n",
            "Contact Management System\n",
            "1. Add Contact\n",
            "2. Search Contact\n",
            "3. Delete Contact\n",
            "4. List Contacts\n",
            "5. Save Contacts\n",
            "6. Exit\n",
            "Enter your choice (1-6): 5\n",
            "Contacts saved successfully.\n",
            "\n",
            "Contact Management System\n",
            "1. Add Contact\n",
            "2. Search Contact\n",
            "3. Delete Contact\n",
            "4. List Contacts\n",
            "5. Save Contacts\n",
            "6. Exit\n",
            "Enter your choice (1-6): 4\n",
            "All Contacts:\n",
            "Alex Johnson: 3456789012 (alexjohnson@example.com)\n",
            "Jane Smith: 2345678901 (janesmith@example.com)\n",
            "John Doe: 1234567890 (johndoe@example.com)\n",
            "rohan: 8227737625 (hhhehe@gail.com)\n",
            "\n",
            "Contact Management System\n",
            "1. Add Contact\n",
            "2. Search Contact\n",
            "3. Delete Contact\n",
            "4. List Contacts\n",
            "5. Save Contacts\n",
            "6. Exit\n",
            "Enter your choice (1-6): 6\n",
            "Exiting the Contact Management System.\n"
          ]
        }
      ]
    },
    {
      "cell_type": "code",
      "source": [
        "%%writefile data.txt\n",
        "Hello to 3v3ry Body. Yours’s sincerely. hello I am “Ali”. I AM no body."
      ],
      "metadata": {
        "colab": {
          "base_uri": "https://localhost:8080/"
        },
        "id": "xoad7S2_arsg",
        "outputId": "39569858-1a15-488c-ba32-ae0ad8e82abd"
      },
      "execution_count": 3,
      "outputs": [
        {
          "output_type": "stream",
          "name": "stdout",
          "text": [
            "Writing data.txt\n"
          ]
        }
      ]
    },
    {
      "cell_type": "code",
      "source": [
        "import re\n",
        "from collections import defaultdict\n",
        "\n",
        "def getWordsList(filename):\n",
        "    words_count = defaultdict(int)\n",
        "    total_words = 0\n",
        "\n",
        "    with open(filename, 'r') as file:\n",
        "        data = file.read().lower()\n",
        "        words = re.findall(r'\\b[a-z]+\\b', data)\n",
        "\n",
        "        for word in words:\n",
        "            if not any(char.isdigit() for char in word):\n",
        "                words_count[word] += 1\n",
        "                total_words += 1\n",
        "\n",
        "    return words_count, total_words\n",
        "\n",
        "def printWord(words_count, total_words, n=100):\n",
        "    sorted_words = sorted(words_count.items(), key=lambda x: x[1], reverse=True)[:n]\n",
        "\n",
        "    print(\"Word\\tCount\\tProbability\")\n",
        "    for word, count in sorted_words:\n",
        "        probability = f\"{count}/{total_words}\"\n",
        "        print(f\"{word}\\t{count}\\t{probability}\")\n",
        "\n",
        "# testing\n",
        "words_count, total_words = getWordsList(\"data.txt\")\n",
        "printWord(words_count, total_words)"
      ],
      "metadata": {
        "colab": {
          "base_uri": "https://localhost:8080/"
        },
        "id": "-R9F1Sv-edIY",
        "outputId": "d29c896d-dc2c-4ccf-84cc-58414d7dbf41"
      },
      "execution_count": 9,
      "outputs": [
        {
          "output_type": "stream",
          "name": "stdout",
          "text": [
            "Word\tCount\tProbability\n",
            "hello\t2\t2/14\n",
            "body\t2\t2/14\n",
            "i\t2\t2/14\n",
            "am\t2\t2/14\n",
            "to\t1\t1/14\n",
            "yours\t1\t1/14\n",
            "s\t1\t1/14\n",
            "sincerely\t1\t1/14\n",
            "ali\t1\t1/14\n",
            "no\t1\t1/14\n"
          ]
        }
      ]
    },
    {
      "cell_type": "code",
      "source": [],
      "metadata": {
        "id": "vPUGVbYNksSx"
      },
      "execution_count": null,
      "outputs": []
    }
  ]
}